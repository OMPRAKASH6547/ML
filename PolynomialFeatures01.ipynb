{
  "nbformat": 4,
  "nbformat_minor": 0,
  "metadata": {
    "colab": {
      "name": "PolynomialFeatures01.ipynb",
      "provenance": []
    },
    "kernelspec": {
      "name": "python3",
      "display_name": "Python 3"
    },
    "language_info": {
      "name": "python"
    }
  },
  "cells": [
    {
      "cell_type": "code",
      "execution_count": 2,
      "metadata": {
        "colab": {
          "base_uri": "https://localhost:8080/"
        },
        "id": "q_hFMaqEY-rR",
        "outputId": "602d3224-193f-4915-84cc-cfe1e69207fd"
      },
      "outputs": [
        {
          "output_type": "execute_result",
          "data": {
            "text/plain": [
              "array([[ 1.,  1.,  2.,  1.,  2.,  4.],\n",
              "       [ 1.,  3.,  4.,  9., 12., 16.],\n",
              "       [ 1.,  5.,  6., 25., 30., 36.]])"
            ]
          },
          "metadata": {},
          "execution_count": 2
        }
      ],
      "source": [
        "import numpy as np\n",
        "from sklearn.preprocessing import PolynomialFeatures\n",
        "x=np.array([[1,2],[3,4],[5,6]])\n",
        "poly=PolynomialFeatures(degree=2)\n",
        "poly.fit(x)\n",
        "poly.transform(x)"
      ]
    },
    {
      "cell_type": "code",
      "source": [
        "import numpy as np\n",
        "from sklearn.preprocessing import PolynomialFeatures\n",
        "x=np.array([[1,2],[3,4],[5,6]])\n",
        "poly=PolynomialFeatures(degree=2)\n",
        "poly.fit(x)\n",
        "poly.transform(x)"
      ],
      "metadata": {
        "colab": {
          "base_uri": "https://localhost:8080/"
        },
        "id": "liIXxj0waWe8",
        "outputId": "0226c238-951a-49ef-aba5-d0d08888163a"
      },
      "execution_count": 3,
      "outputs": [
        {
          "output_type": "execute_result",
          "data": {
            "text/plain": [
              "array([[ 1.,  1.,  2.,  1.,  2.,  4.],\n",
              "       [ 1.,  3.,  4.,  9., 12., 16.],\n",
              "       [ 1.,  5.,  6., 25., 30., 36.]])"
            ]
          },
          "metadata": {},
          "execution_count": 3
        }
      ]
    },
    {
      "cell_type": "code",
      "source": [
        ""
      ],
      "metadata": {
        "id": "9VnnAyYKbaf_"
      },
      "execution_count": null,
      "outputs": []
    }
  ]
}