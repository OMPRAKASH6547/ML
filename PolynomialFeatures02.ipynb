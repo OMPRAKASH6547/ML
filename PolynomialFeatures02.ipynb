{
  "nbformat": 4,
  "nbformat_minor": 0,
  "metadata": {
    "colab": {
      "name": "PolynomialFeatures02.ipynb",
      "provenance": []
    },
    "kernelspec": {
      "name": "python3",
      "display_name": "Python 3"
    },
    "language_info": {
      "name": "python"
    }
  },
  "cells": [
    {
      "cell_type": "code",
      "execution_count": 2,
      "metadata": {
        "id": "cObM6O14cDcy"
      },
      "outputs": [],
      "source": [
        "import numpy as np\n",
        "import matplotlib.pyplot as plt\n",
        "from sklearn.preprocessing import PolynomialFeatures\n",
        "from sklearn import linear_model\n",
        "from sklearn.pipeline import make_pipeline"
      ]
    },
    {
      "cell_type": "code",
      "source": [
        "#data creation\n",
        "water=np.array([10,20,30,40]).reshape(-1,1)\n",
        "fertilizer=np.array([1,2,3,4]).reshape(-1,1)\n",
        "crop_yield=np.array([1,4,8,16]).reshape(-1,1)\n",
        "x=np.concatenate([water,fertilizer],axis=1)\n",
        "y=crop_yield.copy()"
      ],
      "metadata": {
        "id": "qUPuPUMWdCYa"
      },
      "execution_count": 3,
      "outputs": []
    },
    {
      "cell_type": "code",
      "source": [
        "w2=np.array([10,20,30,40])\n",
        "print(w2)\n",
        "print(w2.shape)"
      ],
      "metadata": {
        "colab": {
          "base_uri": "https://localhost:8080/"
        },
        "id": "2UzHFaK7c_uw",
        "outputId": "bac3a411-d5b6-4ca7-f242-0a9bd7e61c9b"
      },
      "execution_count": 5,
      "outputs": [
        {
          "output_type": "stream",
          "name": "stdout",
          "text": [
            "[10 20 30 40]\n",
            "(4,)\n"
          ]
        }
      ]
    },
    {
      "cell_type": "code",
      "source": [
        "w3=np.array([10,20,30,40]).reshape(-1,1)\n",
        "print(w3)\n",
        "print(w3.shape)"
      ],
      "metadata": {
        "colab": {
          "base_uri": "https://localhost:8080/"
        },
        "id": "w6SfkSqudA7p",
        "outputId": "068e7f92-8996-4e91-bd35-dfe082a9fd0f"
      },
      "execution_count": 8,
      "outputs": [
        {
          "output_type": "stream",
          "name": "stdout",
          "text": [
            "[[10]\n",
            " [20]\n",
            " [30]\n",
            " [40]]\n",
            "(4, 1)\n"
          ]
        }
      ]
    },
    {
      "cell_type": "code",
      "source": [
        "x  # indipendent variable"
      ],
      "metadata": {
        "colab": {
          "base_uri": "https://localhost:8080/"
        },
        "id": "K4IGCrZxc0XP",
        "outputId": "212fcc18-1164-4b83-f5de-67a3bbbb60da"
      },
      "execution_count": 9,
      "outputs": [
        {
          "output_type": "execute_result",
          "data": {
            "text/plain": [
              "array([[10,  1],\n",
              "       [20,  2],\n",
              "       [30,  3],\n",
              "       [40,  4]])"
            ]
          },
          "metadata": {},
          "execution_count": 9
        }
      ]
    },
    {
      "cell_type": "code",
      "source": [
        "y #dependent variable"
      ],
      "metadata": {
        "colab": {
          "base_uri": "https://localhost:8080/"
        },
        "id": "tfpIteyLfO8-",
        "outputId": "31b8c5a2-cc15-46e0-f58b-e0a3ff135374"
      },
      "execution_count": 10,
      "outputs": [
        {
          "output_type": "execute_result",
          "data": {
            "text/plain": [
              "array([[ 1],\n",
              "       [ 4],\n",
              "       [ 8],\n",
              "       [16]])"
            ]
          },
          "metadata": {},
          "execution_count": 10
        }
      ]
    },
    {
      "cell_type": "code",
      "source": [
        "x_test=np.array([[35,12],[11,1.2],[26,5.8]]).reshape(3,2)\n",
        "x_test\n",
        "print(x_test.shape)"
      ],
      "metadata": {
        "colab": {
          "base_uri": "https://localhost:8080/"
        },
        "id": "WqHiwnHRfTzA",
        "outputId": "3592bcac-fb51-4404-c6ff-981c7aaa6a55"
      },
      "execution_count": 12,
      "outputs": [
        {
          "output_type": "stream",
          "name": "stdout",
          "text": [
            "(3, 2)\n"
          ]
        }
      ]
    },
    {
      "cell_type": "code",
      "source": [
        "#Transerfer\n",
        "np.set_printoptions(suppress=True)"
      ],
      "metadata": {
        "id": "EnyqxwMIgCTC"
      },
      "execution_count": 13,
      "outputs": []
    },
    {
      "cell_type": "code",
      "source": [
        "#creat new features\n",
        "f=PolynomialFeatures(degree=2)\n",
        "f_new=f.fit_transform(x)\n",
        "f_new"
      ],
      "metadata": {
        "colab": {
          "base_uri": "https://localhost:8080/"
        },
        "id": "LIq2B-XWgX5c",
        "outputId": "35d0b766-2bcf-47b2-fce1-d20a0f090297"
      },
      "execution_count": 14,
      "outputs": [
        {
          "output_type": "execute_result",
          "data": {
            "text/plain": [
              "array([[   1.,   10.,    1.,  100.,   10.,    1.],\n",
              "       [   1.,   20.,    2.,  400.,   40.,    4.],\n",
              "       [   1.,   30.,    3.,  900.,   90.,    9.],\n",
              "       [   1.,   40.,    4., 1600.,  160.,   16.]])"
            ]
          },
          "metadata": {},
          "execution_count": 14
        }
      ]
    },
    {
      "cell_type": "code",
      "source": [
        "#pipeline and fit\n",
        "model=make_pipeline(PolynomialFeatures(degree=2),linear_model.LinearRegression())\n",
        "model.fit(x,y)\n",
        "# 2 features then degree2- 5 features than linear model."
      ],
      "metadata": {
        "colab": {
          "base_uri": "https://localhost:8080/"
        },
        "id": "khApy5hsgzvP",
        "outputId": "cf680fe8-1363-4ad8-e14b-87ca5bab637b"
      },
      "execution_count": 15,
      "outputs": [
        {
          "output_type": "execute_result",
          "data": {
            "text/plain": [
              "Pipeline(steps=[('polynomialfeatures', PolynomialFeatures()),\n",
              "                ('linearregression', LinearRegression())])"
            ]
          },
          "metadata": {},
          "execution_count": 15
        }
      ]
    },
    {
      "cell_type": "code",
      "source": [
        "y_pred=model.predict(x_test)\n",
        "y_pred"
      ],
      "metadata": {
        "id": "vMq-IEH6jJkM",
        "outputId": "b91dc59e-b502-4e3f-ce6d-1c87d80f0d67",
        "colab": {
          "base_uri": "https://localhost:8080/"
        }
      },
      "execution_count": 16,
      "outputs": [
        {
          "output_type": "execute_result",
          "data": {
            "text/plain": [
              "array([[12.10834684],\n",
              "       [ 1.27755308],\n",
              "       [ 6.25351423]])"
            ]
          },
          "metadata": {},
          "execution_count": 16
        }
      ]
    }
  ]
}